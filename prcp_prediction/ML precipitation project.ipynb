{
 "cells": [
  {
   "cell_type": "code",
   "execution_count": 1,
   "id": "e1efee6b",
   "metadata": {},
   "outputs": [
    {
     "data": {
      "text/html": [
       "<div>\n",
       "<style scoped>\n",
       "    .dataframe tbody tr th:only-of-type {\n",
       "        vertical-align: middle;\n",
       "    }\n",
       "\n",
       "    .dataframe tbody tr th {\n",
       "        vertical-align: top;\n",
       "    }\n",
       "\n",
       "    .dataframe thead th {\n",
       "        text-align: right;\n",
       "    }\n",
       "</style>\n",
       "<table border=\"1\" class=\"dataframe\">\n",
       "  <thead>\n",
       "    <tr style=\"text-align: right;\">\n",
       "      <th></th>\n",
       "      <th>STATION</th>\n",
       "      <th>NAME</th>\n",
       "      <th>DATE</th>\n",
       "      <th>AWND</th>\n",
       "      <th>PGTM</th>\n",
       "      <th>PRCP</th>\n",
       "      <th>TAVG</th>\n",
       "      <th>TMAX</th>\n",
       "      <th>TMIN</th>\n",
       "      <th>WDF2</th>\n",
       "      <th>WDF5</th>\n",
       "      <th>WSF2</th>\n",
       "      <th>WSF5</th>\n",
       "      <th>WT01</th>\n",
       "      <th>WT02</th>\n",
       "      <th>WT08</th>\n",
       "    </tr>\n",
       "  </thead>\n",
       "  <tbody>\n",
       "    <tr>\n",
       "      <th>0</th>\n",
       "      <td>USW00093134</td>\n",
       "      <td>LOS ANGELES DOWNTOWN USC, CA US</td>\n",
       "      <td>2016-01-01</td>\n",
       "      <td>2.46</td>\n",
       "      <td>NaN</td>\n",
       "      <td>0.00</td>\n",
       "      <td>NaN</td>\n",
       "      <td>64</td>\n",
       "      <td>43</td>\n",
       "      <td>10.0</td>\n",
       "      <td>30.0</td>\n",
       "      <td>8.1</td>\n",
       "      <td>11.0</td>\n",
       "      <td>NaN</td>\n",
       "      <td>NaN</td>\n",
       "      <td>1.0</td>\n",
       "    </tr>\n",
       "    <tr>\n",
       "      <th>1</th>\n",
       "      <td>USW00093134</td>\n",
       "      <td>LOS ANGELES DOWNTOWN USC, CA US</td>\n",
       "      <td>2016-01-02</td>\n",
       "      <td>2.01</td>\n",
       "      <td>NaN</td>\n",
       "      <td>0.00</td>\n",
       "      <td>NaN</td>\n",
       "      <td>65</td>\n",
       "      <td>47</td>\n",
       "      <td>270.0</td>\n",
       "      <td>30.0</td>\n",
       "      <td>6.0</td>\n",
       "      <td>8.9</td>\n",
       "      <td>NaN</td>\n",
       "      <td>NaN</td>\n",
       "      <td>NaN</td>\n",
       "    </tr>\n",
       "    <tr>\n",
       "      <th>2</th>\n",
       "      <td>USW00093134</td>\n",
       "      <td>LOS ANGELES DOWNTOWN USC, CA US</td>\n",
       "      <td>2016-01-03</td>\n",
       "      <td>0.67</td>\n",
       "      <td>NaN</td>\n",
       "      <td>0.00</td>\n",
       "      <td>NaN</td>\n",
       "      <td>62</td>\n",
       "      <td>44</td>\n",
       "      <td>150.0</td>\n",
       "      <td>150.0</td>\n",
       "      <td>10.1</td>\n",
       "      <td>14.1</td>\n",
       "      <td>NaN</td>\n",
       "      <td>NaN</td>\n",
       "      <td>NaN</td>\n",
       "    </tr>\n",
       "    <tr>\n",
       "      <th>3</th>\n",
       "      <td>USW00093134</td>\n",
       "      <td>LOS ANGELES DOWNTOWN USC, CA US</td>\n",
       "      <td>2016-01-04</td>\n",
       "      <td>1.34</td>\n",
       "      <td>NaN</td>\n",
       "      <td>0.01</td>\n",
       "      <td>NaN</td>\n",
       "      <td>69</td>\n",
       "      <td>55</td>\n",
       "      <td>270.0</td>\n",
       "      <td>280.0</td>\n",
       "      <td>8.1</td>\n",
       "      <td>14.1</td>\n",
       "      <td>NaN</td>\n",
       "      <td>NaN</td>\n",
       "      <td>NaN</td>\n",
       "    </tr>\n",
       "    <tr>\n",
       "      <th>4</th>\n",
       "      <td>USW00093134</td>\n",
       "      <td>LOS ANGELES DOWNTOWN USC, CA US</td>\n",
       "      <td>2016-01-05</td>\n",
       "      <td>2.46</td>\n",
       "      <td>NaN</td>\n",
       "      <td>1.61</td>\n",
       "      <td>NaN</td>\n",
       "      <td>59</td>\n",
       "      <td>49</td>\n",
       "      <td>140.0</td>\n",
       "      <td>140.0</td>\n",
       "      <td>10.1</td>\n",
       "      <td>16.1</td>\n",
       "      <td>1.0</td>\n",
       "      <td>1.0</td>\n",
       "      <td>NaN</td>\n",
       "    </tr>\n",
       "  </tbody>\n",
       "</table>\n",
       "</div>"
      ],
      "text/plain": [
       "       STATION                             NAME        DATE  AWND  PGTM  PRCP  \\\n",
       "0  USW00093134  LOS ANGELES DOWNTOWN USC, CA US  2016-01-01  2.46   NaN  0.00   \n",
       "1  USW00093134  LOS ANGELES DOWNTOWN USC, CA US  2016-01-02  2.01   NaN  0.00   \n",
       "2  USW00093134  LOS ANGELES DOWNTOWN USC, CA US  2016-01-03  0.67   NaN  0.00   \n",
       "3  USW00093134  LOS ANGELES DOWNTOWN USC, CA US  2016-01-04  1.34   NaN  0.01   \n",
       "4  USW00093134  LOS ANGELES DOWNTOWN USC, CA US  2016-01-05  2.46   NaN  1.61   \n",
       "\n",
       "   TAVG  TMAX  TMIN   WDF2   WDF5  WSF2  WSF5  WT01  WT02  WT08  \n",
       "0   NaN    64    43   10.0   30.0   8.1  11.0   NaN   NaN   1.0  \n",
       "1   NaN    65    47  270.0   30.0   6.0   8.9   NaN   NaN   NaN  \n",
       "2   NaN    62    44  150.0  150.0  10.1  14.1   NaN   NaN   NaN  \n",
       "3   NaN    69    55  270.0  280.0   8.1  14.1   NaN   NaN   NaN  \n",
       "4   NaN    59    49  140.0  140.0  10.1  16.1   1.0   1.0   NaN  "
      ]
     },
     "execution_count": 1,
     "metadata": {},
     "output_type": "execute_result"
    }
   ],
   "source": [
    "import pandas as pd \n",
    "df=pd.read_csv('dataset.csv')\n",
    "df.head()"
   ]
  },
  {
   "cell_type": "code",
   "execution_count": 2,
   "id": "1500e322",
   "metadata": {},
   "outputs": [
    {
     "data": {
      "text/html": [
       "<div>\n",
       "<style scoped>\n",
       "    .dataframe tbody tr th:only-of-type {\n",
       "        vertical-align: middle;\n",
       "    }\n",
       "\n",
       "    .dataframe tbody tr th {\n",
       "        vertical-align: top;\n",
       "    }\n",
       "\n",
       "    .dataframe thead th {\n",
       "        text-align: right;\n",
       "    }\n",
       "</style>\n",
       "<table border=\"1\" class=\"dataframe\">\n",
       "  <thead>\n",
       "    <tr style=\"text-align: right;\">\n",
       "      <th></th>\n",
       "      <th>STATION</th>\n",
       "      <th>NAME</th>\n",
       "      <th>DATE</th>\n",
       "      <th>AWND</th>\n",
       "      <th>PGTM</th>\n",
       "      <th>PRCP</th>\n",
       "      <th>TAVG</th>\n",
       "      <th>TMAX</th>\n",
       "      <th>TMIN</th>\n",
       "      <th>WDF2</th>\n",
       "      <th>WDF5</th>\n",
       "      <th>WSF2</th>\n",
       "      <th>WSF5</th>\n",
       "      <th>WT01</th>\n",
       "      <th>WT02</th>\n",
       "      <th>WT08</th>\n",
       "    </tr>\n",
       "  </thead>\n",
       "  <tbody>\n",
       "    <tr>\n",
       "      <th>0</th>\n",
       "      <td>USW00093134</td>\n",
       "      <td>LOS ANGELES DOWNTOWN USC, CA US</td>\n",
       "      <td>2016-01-01</td>\n",
       "      <td>2.46</td>\n",
       "      <td>NaN</td>\n",
       "      <td>0.0</td>\n",
       "      <td>NaN</td>\n",
       "      <td>64</td>\n",
       "      <td>43</td>\n",
       "      <td>10.0</td>\n",
       "      <td>30.0</td>\n",
       "      <td>8.1</td>\n",
       "      <td>11.0</td>\n",
       "      <td>NaN</td>\n",
       "      <td>NaN</td>\n",
       "      <td>1.0</td>\n",
       "    </tr>\n",
       "    <tr>\n",
       "      <th>1</th>\n",
       "      <td>USW00093134</td>\n",
       "      <td>LOS ANGELES DOWNTOWN USC, CA US</td>\n",
       "      <td>2016-01-02</td>\n",
       "      <td>2.01</td>\n",
       "      <td>NaN</td>\n",
       "      <td>0.0</td>\n",
       "      <td>NaN</td>\n",
       "      <td>65</td>\n",
       "      <td>47</td>\n",
       "      <td>270.0</td>\n",
       "      <td>30.0</td>\n",
       "      <td>6.0</td>\n",
       "      <td>8.9</td>\n",
       "      <td>NaN</td>\n",
       "      <td>NaN</td>\n",
       "      <td>NaN</td>\n",
       "    </tr>\n",
       "    <tr>\n",
       "      <th>2</th>\n",
       "      <td>USW00093134</td>\n",
       "      <td>LOS ANGELES DOWNTOWN USC, CA US</td>\n",
       "      <td>2016-01-03</td>\n",
       "      <td>0.67</td>\n",
       "      <td>NaN</td>\n",
       "      <td>0.0</td>\n",
       "      <td>NaN</td>\n",
       "      <td>62</td>\n",
       "      <td>44</td>\n",
       "      <td>150.0</td>\n",
       "      <td>150.0</td>\n",
       "      <td>10.1</td>\n",
       "      <td>14.1</td>\n",
       "      <td>NaN</td>\n",
       "      <td>NaN</td>\n",
       "      <td>NaN</td>\n",
       "    </tr>\n",
       "    <tr>\n",
       "      <th>3</th>\n",
       "      <td>USW00093134</td>\n",
       "      <td>LOS ANGELES DOWNTOWN USC, CA US</td>\n",
       "      <td>2016-01-04</td>\n",
       "      <td>1.34</td>\n",
       "      <td>NaN</td>\n",
       "      <td>1.0</td>\n",
       "      <td>NaN</td>\n",
       "      <td>69</td>\n",
       "      <td>55</td>\n",
       "      <td>270.0</td>\n",
       "      <td>280.0</td>\n",
       "      <td>8.1</td>\n",
       "      <td>14.1</td>\n",
       "      <td>NaN</td>\n",
       "      <td>NaN</td>\n",
       "      <td>NaN</td>\n",
       "    </tr>\n",
       "    <tr>\n",
       "      <th>4</th>\n",
       "      <td>USW00093134</td>\n",
       "      <td>LOS ANGELES DOWNTOWN USC, CA US</td>\n",
       "      <td>2016-01-05</td>\n",
       "      <td>2.46</td>\n",
       "      <td>NaN</td>\n",
       "      <td>1.0</td>\n",
       "      <td>NaN</td>\n",
       "      <td>59</td>\n",
       "      <td>49</td>\n",
       "      <td>140.0</td>\n",
       "      <td>140.0</td>\n",
       "      <td>10.1</td>\n",
       "      <td>16.1</td>\n",
       "      <td>1.0</td>\n",
       "      <td>1.0</td>\n",
       "      <td>NaN</td>\n",
       "    </tr>\n",
       "  </tbody>\n",
       "</table>\n",
       "</div>"
      ],
      "text/plain": [
       "       STATION                             NAME        DATE  AWND  PGTM  PRCP  \\\n",
       "0  USW00093134  LOS ANGELES DOWNTOWN USC, CA US  2016-01-01  2.46   NaN   0.0   \n",
       "1  USW00093134  LOS ANGELES DOWNTOWN USC, CA US  2016-01-02  2.01   NaN   0.0   \n",
       "2  USW00093134  LOS ANGELES DOWNTOWN USC, CA US  2016-01-03  0.67   NaN   0.0   \n",
       "3  USW00093134  LOS ANGELES DOWNTOWN USC, CA US  2016-01-04  1.34   NaN   1.0   \n",
       "4  USW00093134  LOS ANGELES DOWNTOWN USC, CA US  2016-01-05  2.46   NaN   1.0   \n",
       "\n",
       "   TAVG  TMAX  TMIN   WDF2   WDF5  WSF2  WSF5  WT01  WT02  WT08  \n",
       "0   NaN    64    43   10.0   30.0   8.1  11.0   NaN   NaN   1.0  \n",
       "1   NaN    65    47  270.0   30.0   6.0   8.9   NaN   NaN   NaN  \n",
       "2   NaN    62    44  150.0  150.0  10.1  14.1   NaN   NaN   NaN  \n",
       "3   NaN    69    55  270.0  280.0   8.1  14.1   NaN   NaN   NaN  \n",
       "4   NaN    59    49  140.0  140.0  10.1  16.1   1.0   1.0   NaN  "
      ]
     },
     "execution_count": 2,
     "metadata": {},
     "output_type": "execute_result"
    }
   ],
   "source": [
    "# Target feature is PRCP , Replacing the values in it \n",
    "df.loc[df['PRCP']>0, 'PRCP'] = 1\n",
    "df.head()\n",
    "    "
   ]
  },
  {
   "cell_type": "code",
   "execution_count": 3,
   "id": "27f1c2e1",
   "metadata": {},
   "outputs": [],
   "source": [
    "import matplotlib.pyplot as plt"
   ]
  },
  {
   "cell_type": "code",
   "execution_count": 4,
   "id": "dac33588",
   "metadata": {},
   "outputs": [
    {
     "data": {
      "text/plain": [
       "<AxesSubplot:>"
      ]
     },
     "execution_count": 4,
     "metadata": {},
     "output_type": "execute_result"
    },
    {
     "data": {
      "image/png": "[encoded data removed]",
      "text/plain": [
       "<Figure size 432x288 with 1 Axes>"
      ]
     },
     "metadata": {
      "needs_background": "light"
     },
     "output_type": "display_data"
    }
   ],
   "source": [
    "df.count().plot(kind='bar')"
   ]
  },
  {
   "cell_type": "code",
   "execution_count": 5,
   "id": "2a8fdd97",
   "metadata": {},
   "outputs": [
    {
     "data": {
      "text/plain": [
       "<AxesSubplot:>"
      ]
     },
     "execution_count": 5,
     "metadata": {},
     "output_type": "execute_result"
    },
    {
     "data": {
      "image/png": "[encoded data removed]",
      "text/plain": [
       "<Figure size 432x288 with 1 Axes>"
      ]
     },
     "metadata": {
      "needs_background": "light"
     },
     "output_type": "display_data"
    }
   ],
   "source": [
    "df.count().plot(kind='barh')"
   ]
  },
  {
   "cell_type": "code",
   "execution_count": 6,
   "id": "4ba0034e",
   "metadata": {},
   "outputs": [],
   "source": [
    "df=df.drop(columns=[\"WT02\"])\n",
    "df=df.drop(columns=[\"TAVG\"])\n",
    "df=df.drop(columns=[\"PGTM\"])"
   ]
  },
  {
   "cell_type": "code",
   "execution_count": 7,
   "id": "d3d12f60",
   "metadata": {},
   "outputs": [],
   "source": [
    "for column in df.columns:\n",
    "    df[column].fillna(df[column].mode()[0], inplace=True)"
   ]
  },
  {
   "cell_type": "code",
   "execution_count": 8,
   "id": "15534a47",
   "metadata": {},
   "outputs": [
    {
     "data": {
      "text/plain": [
       "<AxesSubplot:>"
      ]
     },
     "execution_count": 8,
     "metadata": {},
     "output_type": "execute_result"
    },
    {
     "data": {
      "image/png": "[encoded data removed]",
      "text/plain": [
       "<Figure size 432x288 with 1 Axes>"
      ]
     },
     "metadata": {
      "needs_background": "light"
     },
     "output_type": "display_data"
    }
   ],
   "source": [
    "df.count().plot(kind='barh')"
   ]
  },
  {
   "cell_type": "code",
   "execution_count": 9,
   "id": "b4afcecc",
   "metadata": {},
   "outputs": [
    {
     "data": {
      "text/html": [
       "<div>\n",
       "<style scoped>\n",
       "    .dataframe tbody tr th:only-of-type {\n",
       "        vertical-align: middle;\n",
       "    }\n",
       "\n",
       "    .dataframe tbody tr th {\n",
       "        vertical-align: top;\n",
       "    }\n",
       "\n",
       "    .dataframe thead th {\n",
       "        text-align: right;\n",
       "    }\n",
       "</style>\n",
       "<table border=\"1\" class=\"dataframe\">\n",
       "  <thead>\n",
       "    <tr style=\"text-align: right;\">\n",
       "      <th></th>\n",
       "      <th>STATION</th>\n",
       "      <th>NAME</th>\n",
       "      <th>DATE</th>\n",
       "      <th>AWND</th>\n",
       "      <th>PRCP</th>\n",
       "      <th>TMAX</th>\n",
       "      <th>TMIN</th>\n",
       "      <th>WDF2</th>\n",
       "      <th>WDF5</th>\n",
       "      <th>WSF2</th>\n",
       "      <th>WSF5</th>\n",
       "      <th>WT01</th>\n",
       "      <th>WT08</th>\n",
       "    </tr>\n",
       "  </thead>\n",
       "  <tbody>\n",
       "    <tr>\n",
       "      <th>0</th>\n",
       "      <td>USW00093134</td>\n",
       "      <td>LOS ANGELES DOWNTOWN USC, CA US</td>\n",
       "      <td>2016-01-01</td>\n",
       "      <td>2.46</td>\n",
       "      <td>0.0</td>\n",
       "      <td>64</td>\n",
       "      <td>43</td>\n",
       "      <td>10.0</td>\n",
       "      <td>30.0</td>\n",
       "      <td>8.1</td>\n",
       "      <td>11.0</td>\n",
       "      <td>1.0</td>\n",
       "      <td>1.0</td>\n",
       "    </tr>\n",
       "    <tr>\n",
       "      <th>1</th>\n",
       "      <td>USW00093134</td>\n",
       "      <td>LOS ANGELES DOWNTOWN USC, CA US</td>\n",
       "      <td>2016-01-02</td>\n",
       "      <td>2.01</td>\n",
       "      <td>0.0</td>\n",
       "      <td>65</td>\n",
       "      <td>47</td>\n",
       "      <td>270.0</td>\n",
       "      <td>30.0</td>\n",
       "      <td>6.0</td>\n",
       "      <td>8.9</td>\n",
       "      <td>1.0</td>\n",
       "      <td>1.0</td>\n",
       "    </tr>\n",
       "    <tr>\n",
       "      <th>2</th>\n",
       "      <td>USW00093134</td>\n",
       "      <td>LOS ANGELES DOWNTOWN USC, CA US</td>\n",
       "      <td>2016-01-03</td>\n",
       "      <td>0.67</td>\n",
       "      <td>0.0</td>\n",
       "      <td>62</td>\n",
       "      <td>44</td>\n",
       "      <td>150.0</td>\n",
       "      <td>150.0</td>\n",
       "      <td>10.1</td>\n",
       "      <td>14.1</td>\n",
       "      <td>1.0</td>\n",
       "      <td>1.0</td>\n",
       "    </tr>\n",
       "    <tr>\n",
       "      <th>3</th>\n",
       "      <td>USW00093134</td>\n",
       "      <td>LOS ANGELES DOWNTOWN USC, CA US</td>\n",
       "      <td>2016-01-04</td>\n",
       "      <td>1.34</td>\n",
       "      <td>1.0</td>\n",
       "      <td>69</td>\n",
       "      <td>55</td>\n",
       "      <td>270.0</td>\n",
       "      <td>280.0</td>\n",
       "      <td>8.1</td>\n",
       "      <td>14.1</td>\n",
       "      <td>1.0</td>\n",
       "      <td>1.0</td>\n",
       "    </tr>\n",
       "    <tr>\n",
       "      <th>4</th>\n",
       "      <td>USW00093134</td>\n",
       "      <td>LOS ANGELES DOWNTOWN USC, CA US</td>\n",
       "      <td>2016-01-05</td>\n",
       "      <td>2.46</td>\n",
       "      <td>1.0</td>\n",
       "      <td>59</td>\n",
       "      <td>49</td>\n",
       "      <td>140.0</td>\n",
       "      <td>140.0</td>\n",
       "      <td>10.1</td>\n",
       "      <td>16.1</td>\n",
       "      <td>1.0</td>\n",
       "      <td>1.0</td>\n",
       "    </tr>\n",
       "  </tbody>\n",
       "</table>\n",
       "</div>"
      ],
      "text/plain": [
       "       STATION                             NAME        DATE  AWND  PRCP  TMAX  \\\n",
       "0  USW00093134  LOS ANGELES DOWNTOWN USC, CA US  2016-01-01  2.46   0.0    64   \n",
       "1  USW00093134  LOS ANGELES DOWNTOWN USC, CA US  2016-01-02  2.01   0.0    65   \n",
       "2  USW00093134  LOS ANGELES DOWNTOWN USC, CA US  2016-01-03  0.67   0.0    62   \n",
       "3  USW00093134  LOS ANGELES DOWNTOWN USC, CA US  2016-01-04  1.34   1.0    69   \n",
       "4  USW00093134  LOS ANGELES DOWNTOWN USC, CA US  2016-01-05  2.46   1.0    59   \n",
       "\n",
       "   TMIN   WDF2   WDF5  WSF2  WSF5  WT01  WT08  \n",
       "0    43   10.0   30.0   8.1  11.0   1.0   1.0  \n",
       "1    47  270.0   30.0   6.0   8.9   1.0   1.0  \n",
       "2    44  150.0  150.0  10.1  14.1   1.0   1.0  \n",
       "3    55  270.0  280.0   8.1  14.1   1.0   1.0  \n",
       "4    49  140.0  140.0  10.1  16.1   1.0   1.0  "
      ]
     },
     "execution_count": 9,
     "metadata": {},
     "output_type": "execute_result"
    }
   ],
   "source": [
    "df.head()"
   ]
  },
  {
   "cell_type": "code",
   "execution_count": 10,
   "id": "40de3c4f",
   "metadata": {},
   "outputs": [],
   "source": [
    "df.to_csv(\"new_dataset.csv\")"
   ]
  },
  {
   "cell_type": "code",
   "execution_count": 11,
   "id": "c62a26c4",
   "metadata": {},
   "outputs": [
    {
     "data": {
      "text/html": [
       "<div>\n",
       "<style scoped>\n",
       "    .dataframe tbody tr th:only-of-type {\n",
       "        vertical-align: middle;\n",
       "    }\n",
       "\n",
       "    .dataframe tbody tr th {\n",
       "        vertical-align: top;\n",
       "    }\n",
       "\n",
       "    .dataframe thead th {\n",
       "        text-align: right;\n",
       "    }\n",
       "</style>\n",
       "<table border=\"1\" class=\"dataframe\">\n",
       "  <thead>\n",
       "    <tr style=\"text-align: right;\">\n",
       "      <th></th>\n",
       "      <th>STATION</th>\n",
       "      <th>NAME</th>\n",
       "      <th>DATE</th>\n",
       "      <th>AWND</th>\n",
       "      <th>PRCP</th>\n",
       "      <th>TMAX</th>\n",
       "      <th>TMIN</th>\n",
       "      <th>WDF2</th>\n",
       "      <th>WDF5</th>\n",
       "      <th>WSF2</th>\n",
       "      <th>WSF5</th>\n",
       "      <th>WT01</th>\n",
       "      <th>WT08</th>\n",
       "    </tr>\n",
       "  </thead>\n",
       "  <tbody>\n",
       "    <tr>\n",
       "      <th>0</th>\n",
       "      <td>USW00093134</td>\n",
       "      <td>LOS ANGELES DOWNTOWN USC, CA US</td>\n",
       "      <td>2016-01-01</td>\n",
       "      <td>2.46</td>\n",
       "      <td>0.0</td>\n",
       "      <td>64</td>\n",
       "      <td>43</td>\n",
       "      <td>10.0</td>\n",
       "      <td>30.0</td>\n",
       "      <td>8.1</td>\n",
       "      <td>11.0</td>\n",
       "      <td>1.0</td>\n",
       "      <td>1.0</td>\n",
       "    </tr>\n",
       "    <tr>\n",
       "      <th>1</th>\n",
       "      <td>USW00093134</td>\n",
       "      <td>LOS ANGELES DOWNTOWN USC, CA US</td>\n",
       "      <td>2016-01-02</td>\n",
       "      <td>2.01</td>\n",
       "      <td>0.0</td>\n",
       "      <td>65</td>\n",
       "      <td>47</td>\n",
       "      <td>270.0</td>\n",
       "      <td>30.0</td>\n",
       "      <td>6.0</td>\n",
       "      <td>8.9</td>\n",
       "      <td>1.0</td>\n",
       "      <td>1.0</td>\n",
       "    </tr>\n",
       "    <tr>\n",
       "      <th>2</th>\n",
       "      <td>USW00093134</td>\n",
       "      <td>LOS ANGELES DOWNTOWN USC, CA US</td>\n",
       "      <td>2016-01-03</td>\n",
       "      <td>0.67</td>\n",
       "      <td>0.0</td>\n",
       "      <td>62</td>\n",
       "      <td>44</td>\n",
       "      <td>150.0</td>\n",
       "      <td>150.0</td>\n",
       "      <td>10.1</td>\n",
       "      <td>14.1</td>\n",
       "      <td>1.0</td>\n",
       "      <td>1.0</td>\n",
       "    </tr>\n",
       "    <tr>\n",
       "      <th>3</th>\n",
       "      <td>USW00093134</td>\n",
       "      <td>LOS ANGELES DOWNTOWN USC, CA US</td>\n",
       "      <td>2016-01-04</td>\n",
       "      <td>1.34</td>\n",
       "      <td>1.0</td>\n",
       "      <td>69</td>\n",
       "      <td>55</td>\n",
       "      <td>270.0</td>\n",
       "      <td>280.0</td>\n",
       "      <td>8.1</td>\n",
       "      <td>14.1</td>\n",
       "      <td>1.0</td>\n",
       "      <td>1.0</td>\n",
       "    </tr>\n",
       "    <tr>\n",
       "      <th>4</th>\n",
       "      <td>USW00093134</td>\n",
       "      <td>LOS ANGELES DOWNTOWN USC, CA US</td>\n",
       "      <td>2016-01-05</td>\n",
       "      <td>2.46</td>\n",
       "      <td>1.0</td>\n",
       "      <td>59</td>\n",
       "      <td>49</td>\n",
       "      <td>140.0</td>\n",
       "      <td>140.0</td>\n",
       "      <td>10.1</td>\n",
       "      <td>16.1</td>\n",
       "      <td>1.0</td>\n",
       "      <td>1.0</td>\n",
       "    </tr>\n",
       "  </tbody>\n",
       "</table>\n",
       "</div>"
      ],
      "text/plain": [
       "       STATION                             NAME        DATE  AWND  PRCP  TMAX  \\\n",
       "0  USW00093134  LOS ANGELES DOWNTOWN USC, CA US  2016-01-01  2.46   0.0    64   \n",
       "1  USW00093134  LOS ANGELES DOWNTOWN USC, CA US  2016-01-02  2.01   0.0    65   \n",
       "2  USW00093134  LOS ANGELES DOWNTOWN USC, CA US  2016-01-03  0.67   0.0    62   \n",
       "3  USW00093134  LOS ANGELES DOWNTOWN USC, CA US  2016-01-04  1.34   1.0    69   \n",
       "4  USW00093134  LOS ANGELES DOWNTOWN USC, CA US  2016-01-05  2.46   1.0    59   \n",
       "\n",
       "   TMIN   WDF2   WDF5  WSF2  WSF5  WT01  WT08  \n",
       "0    43   10.0   30.0   8.1  11.0   1.0   1.0  \n",
       "1    47  270.0   30.0   6.0   8.9   1.0   1.0  \n",
       "2    44  150.0  150.0  10.1  14.1   1.0   1.0  \n",
       "3    55  270.0  280.0   8.1  14.1   1.0   1.0  \n",
       "4    49  140.0  140.0  10.1  16.1   1.0   1.0  "
      ]
     },
     "execution_count": 11,
     "metadata": {},
     "output_type": "execute_result"
    }
   ],
   "source": [
    "df.head()\n"
   ]
  },
  {
   "cell_type": "code",
   "execution_count": 12,
   "id": "090dd805",
   "metadata": {},
   "outputs": [],
   "source": [
    "from sklearn import preprocessing"
   ]
  },
  {
   "cell_type": "code",
   "execution_count": 13,
   "id": "5ab9b625",
   "metadata": {},
   "outputs": [],
   "source": [
    "min_max_scaler=preprocessing.MinMaxScaler()"
   ]
  },
  {
   "cell_type": "code",
   "execution_count": 14,
   "id": "02353f81",
   "metadata": {},
   "outputs": [],
   "source": [
    "x_scaled = min_max_scaler.fit_transform(df[['AWND','TMAX','TMIN','WDF2','WDF5','WSF2','WSF5','WT01','WT08']])\n",
    "df_normalized=pd.DataFrame()\n",
    "df_normalized[['AWND','TMAX','TMIN','WDF2','WDF5','WSF2','WSF5','WT01','WT08']] = pd.DataFrame(x_scaled)\n"
   ]
  },
  {
   "cell_type": "code",
   "execution_count": 15,
   "id": "abb51018",
   "metadata": {},
   "outputs": [],
   "source": [
    "df=df.drop(columns=['AWND','TMAX','TMIN','WDF2','WDF5','WSF2','WSF5','WT01','WT08'])\n"
   ]
  },
  {
   "cell_type": "code",
   "execution_count": 16,
   "id": "7c1f2548",
   "metadata": {},
   "outputs": [],
   "source": [
    "df.insert(0, 'New_ID', range(0,len(df)))\n",
    "df_normalized.insert(0, 'New_ID', range(0,len(df_normalized)))"
   ]
  },
  {
   "cell_type": "code",
   "execution_count": 17,
   "id": "35937eaa",
   "metadata": {},
   "outputs": [],
   "source": [
    "df['New_ID']=df['New_ID'].astype(str)\n",
    "df_normalized['New_ID']=df_normalized['New_ID'].astype(str)"
   ]
  },
  {
   "cell_type": "code",
   "execution_count": 18,
   "id": "df88ae8c",
   "metadata": {},
   "outputs": [],
   "source": [
    "df_norm=pd.merge(df,df_normalized,how='inner',on='New_ID')"
   ]
  },
  {
   "cell_type": "code",
   "execution_count": 19,
   "id": "102a5c8d",
   "metadata": {},
   "outputs": [
    {
     "data": {
      "text/html": [
       "<div>\n",
       "<style scoped>\n",
       "    .dataframe tbody tr th:only-of-type {\n",
       "        vertical-align: middle;\n",
       "    }\n",
       "\n",
       "    .dataframe tbody tr th {\n",
       "        vertical-align: top;\n",
       "    }\n",
       "\n",
       "    .dataframe thead th {\n",
       "        text-align: right;\n",
       "    }\n",
       "</style>\n",
       "<table border=\"1\" class=\"dataframe\">\n",
       "  <thead>\n",
       "    <tr style=\"text-align: right;\">\n",
       "      <th></th>\n",
       "      <th>New_ID</th>\n",
       "      <th>STATION</th>\n",
       "      <th>NAME</th>\n",
       "      <th>DATE</th>\n",
       "      <th>PRCP</th>\n",
       "      <th>AWND</th>\n",
       "      <th>TMAX</th>\n",
       "      <th>TMIN</th>\n",
       "      <th>WDF2</th>\n",
       "      <th>WDF5</th>\n",
       "      <th>WSF2</th>\n",
       "      <th>WSF5</th>\n",
       "      <th>WT01</th>\n",
       "      <th>WT08</th>\n",
       "    </tr>\n",
       "  </thead>\n",
       "  <tbody>\n",
       "    <tr>\n",
       "      <th>0</th>\n",
       "      <td>0</td>\n",
       "      <td>USW00093134</td>\n",
       "      <td>LOS ANGELES DOWNTOWN USC, CA US</td>\n",
       "      <td>2016-01-01</td>\n",
       "      <td>0.0</td>\n",
       "      <td>0.305590</td>\n",
       "      <td>0.203390</td>\n",
       "      <td>0.121951</td>\n",
       "      <td>0.000000</td>\n",
       "      <td>0.057143</td>\n",
       "      <td>0.287293</td>\n",
       "      <td>0.178571</td>\n",
       "      <td>0.0</td>\n",
       "      <td>0.0</td>\n",
       "    </tr>\n",
       "    <tr>\n",
       "      <th>1</th>\n",
       "      <td>1</td>\n",
       "      <td>USW00093134</td>\n",
       "      <td>LOS ANGELES DOWNTOWN USC, CA US</td>\n",
       "      <td>2016-01-02</td>\n",
       "      <td>0.0</td>\n",
       "      <td>0.249689</td>\n",
       "      <td>0.220339</td>\n",
       "      <td>0.219512</td>\n",
       "      <td>0.742857</td>\n",
       "      <td>0.057143</td>\n",
       "      <td>0.171271</td>\n",
       "      <td>0.103571</td>\n",
       "      <td>0.0</td>\n",
       "      <td>0.0</td>\n",
       "    </tr>\n",
       "    <tr>\n",
       "      <th>2</th>\n",
       "      <td>2</td>\n",
       "      <td>USW00093134</td>\n",
       "      <td>LOS ANGELES DOWNTOWN USC, CA US</td>\n",
       "      <td>2016-01-03</td>\n",
       "      <td>0.0</td>\n",
       "      <td>0.083230</td>\n",
       "      <td>0.169492</td>\n",
       "      <td>0.146341</td>\n",
       "      <td>0.400000</td>\n",
       "      <td>0.400000</td>\n",
       "      <td>0.397790</td>\n",
       "      <td>0.289286</td>\n",
       "      <td>0.0</td>\n",
       "      <td>0.0</td>\n",
       "    </tr>\n",
       "    <tr>\n",
       "      <th>3</th>\n",
       "      <td>3</td>\n",
       "      <td>USW00093134</td>\n",
       "      <td>LOS ANGELES DOWNTOWN USC, CA US</td>\n",
       "      <td>2016-01-04</td>\n",
       "      <td>1.0</td>\n",
       "      <td>0.166460</td>\n",
       "      <td>0.288136</td>\n",
       "      <td>0.414634</td>\n",
       "      <td>0.742857</td>\n",
       "      <td>0.771429</td>\n",
       "      <td>0.287293</td>\n",
       "      <td>0.289286</td>\n",
       "      <td>0.0</td>\n",
       "      <td>0.0</td>\n",
       "    </tr>\n",
       "    <tr>\n",
       "      <th>4</th>\n",
       "      <td>4</td>\n",
       "      <td>USW00093134</td>\n",
       "      <td>LOS ANGELES DOWNTOWN USC, CA US</td>\n",
       "      <td>2016-01-05</td>\n",
       "      <td>1.0</td>\n",
       "      <td>0.305590</td>\n",
       "      <td>0.118644</td>\n",
       "      <td>0.268293</td>\n",
       "      <td>0.371429</td>\n",
       "      <td>0.371429</td>\n",
       "      <td>0.397790</td>\n",
       "      <td>0.360714</td>\n",
       "      <td>0.0</td>\n",
       "      <td>0.0</td>\n",
       "    </tr>\n",
       "  </tbody>\n",
       "</table>\n",
       "</div>"
      ],
      "text/plain": [
       "  New_ID      STATION                             NAME        DATE  PRCP  \\\n",
       "0      0  USW00093134  LOS ANGELES DOWNTOWN USC, CA US  2016-01-01   0.0   \n",
       "1      1  USW00093134  LOS ANGELES DOWNTOWN USC, CA US  2016-01-02   0.0   \n",
       "2      2  USW00093134  LOS ANGELES DOWNTOWN USC, CA US  2016-01-03   0.0   \n",
       "3      3  USW00093134  LOS ANGELES DOWNTOWN USC, CA US  2016-01-04   1.0   \n",
       "4      4  USW00093134  LOS ANGELES DOWNTOWN USC, CA US  2016-01-05   1.0   \n",
       "\n",
       "       AWND      TMAX      TMIN      WDF2      WDF5      WSF2      WSF5  WT01  \\\n",
       "0  0.305590  0.203390  0.121951  0.000000  0.057143  0.287293  0.178571   0.0   \n",
       "1  0.249689  0.220339  0.219512  0.742857  0.057143  0.171271  0.103571   0.0   \n",
       "2  0.083230  0.169492  0.146341  0.400000  0.400000  0.397790  0.289286   0.0   \n",
       "3  0.166460  0.288136  0.414634  0.742857  0.771429  0.287293  0.289286   0.0   \n",
       "4  0.305590  0.118644  0.268293  0.371429  0.371429  0.397790  0.360714   0.0   \n",
       "\n",
       "   WT08  \n",
       "0   0.0  \n",
       "1   0.0  \n",
       "2   0.0  \n",
       "3   0.0  \n",
       "4   0.0  "
      ]
     },
     "execution_count": 19,
     "metadata": {},
     "output_type": "execute_result"
    }
   ],
   "source": [
    "df_norm.head()\n"
   ]
  },
  {
   "cell_type": "code",
   "execution_count": 20,
   "id": "e44a0e8d",
   "metadata": {},
   "outputs": [],
   "source": [
    "df_norm=df_norm.drop(columns='New_ID')\n",
    "df_norm=df_norm.drop(columns='STATION')\n",
    "df_norm=df_norm.drop(columns='NAME')\n"
   ]
  },
  {
   "cell_type": "code",
   "execution_count": 21,
   "id": "2f3d1ccf",
   "metadata": {},
   "outputs": [
    {
     "data": {
      "text/html": [
       "<div>\n",
       "<style scoped>\n",
       "    .dataframe tbody tr th:only-of-type {\n",
       "        vertical-align: middle;\n",
       "    }\n",
       "\n",
       "    .dataframe tbody tr th {\n",
       "        vertical-align: top;\n",
       "    }\n",
       "\n",
       "    .dataframe thead th {\n",
       "        text-align: right;\n",
       "    }\n",
       "</style>\n",
       "<table border=\"1\" class=\"dataframe\">\n",
       "  <thead>\n",
       "    <tr style=\"text-align: right;\">\n",
       "      <th></th>\n",
       "      <th>DATE</th>\n",
       "      <th>PRCP</th>\n",
       "      <th>AWND</th>\n",
       "      <th>TMAX</th>\n",
       "      <th>TMIN</th>\n",
       "      <th>WDF2</th>\n",
       "      <th>WDF5</th>\n",
       "      <th>WSF2</th>\n",
       "      <th>WSF5</th>\n",
       "      <th>WT01</th>\n",
       "      <th>WT08</th>\n",
       "    </tr>\n",
       "  </thead>\n",
       "  <tbody>\n",
       "    <tr>\n",
       "      <th>0</th>\n",
       "      <td>2016-01-01</td>\n",
       "      <td>0.0</td>\n",
       "      <td>0.305590</td>\n",
       "      <td>0.203390</td>\n",
       "      <td>0.121951</td>\n",
       "      <td>0.000000</td>\n",
       "      <td>0.057143</td>\n",
       "      <td>0.287293</td>\n",
       "      <td>0.178571</td>\n",
       "      <td>0.0</td>\n",
       "      <td>0.0</td>\n",
       "    </tr>\n",
       "    <tr>\n",
       "      <th>1</th>\n",
       "      <td>2016-01-02</td>\n",
       "      <td>0.0</td>\n",
       "      <td>0.249689</td>\n",
       "      <td>0.220339</td>\n",
       "      <td>0.219512</td>\n",
       "      <td>0.742857</td>\n",
       "      <td>0.057143</td>\n",
       "      <td>0.171271</td>\n",
       "      <td>0.103571</td>\n",
       "      <td>0.0</td>\n",
       "      <td>0.0</td>\n",
       "    </tr>\n",
       "    <tr>\n",
       "      <th>2</th>\n",
       "      <td>2016-01-03</td>\n",
       "      <td>0.0</td>\n",
       "      <td>0.083230</td>\n",
       "      <td>0.169492</td>\n",
       "      <td>0.146341</td>\n",
       "      <td>0.400000</td>\n",
       "      <td>0.400000</td>\n",
       "      <td>0.397790</td>\n",
       "      <td>0.289286</td>\n",
       "      <td>0.0</td>\n",
       "      <td>0.0</td>\n",
       "    </tr>\n",
       "    <tr>\n",
       "      <th>3</th>\n",
       "      <td>2016-01-04</td>\n",
       "      <td>1.0</td>\n",
       "      <td>0.166460</td>\n",
       "      <td>0.288136</td>\n",
       "      <td>0.414634</td>\n",
       "      <td>0.742857</td>\n",
       "      <td>0.771429</td>\n",
       "      <td>0.287293</td>\n",
       "      <td>0.289286</td>\n",
       "      <td>0.0</td>\n",
       "      <td>0.0</td>\n",
       "    </tr>\n",
       "    <tr>\n",
       "      <th>4</th>\n",
       "      <td>2016-01-05</td>\n",
       "      <td>1.0</td>\n",
       "      <td>0.305590</td>\n",
       "      <td>0.118644</td>\n",
       "      <td>0.268293</td>\n",
       "      <td>0.371429</td>\n",
       "      <td>0.371429</td>\n",
       "      <td>0.397790</td>\n",
       "      <td>0.360714</td>\n",
       "      <td>0.0</td>\n",
       "      <td>0.0</td>\n",
       "    </tr>\n",
       "    <tr>\n",
       "      <th>...</th>\n",
       "      <td>...</td>\n",
       "      <td>...</td>\n",
       "      <td>...</td>\n",
       "      <td>...</td>\n",
       "      <td>...</td>\n",
       "      <td>...</td>\n",
       "      <td>...</td>\n",
       "      <td>...</td>\n",
       "      <td>...</td>\n",
       "      <td>...</td>\n",
       "      <td>...</td>\n",
       "    </tr>\n",
       "    <tr>\n",
       "      <th>1822</th>\n",
       "      <td>2020-12-27</td>\n",
       "      <td>1.0</td>\n",
       "      <td>0.139130</td>\n",
       "      <td>0.237288</td>\n",
       "      <td>0.414634</td>\n",
       "      <td>0.742857</td>\n",
       "      <td>0.714286</td>\n",
       "      <td>0.331492</td>\n",
       "      <td>0.432143</td>\n",
       "      <td>0.0</td>\n",
       "      <td>0.0</td>\n",
       "    </tr>\n",
       "    <tr>\n",
       "      <th>1823</th>\n",
       "      <td>2020-12-28</td>\n",
       "      <td>1.0</td>\n",
       "      <td>0.583851</td>\n",
       "      <td>0.067797</td>\n",
       "      <td>0.219512</td>\n",
       "      <td>0.228571</td>\n",
       "      <td>0.714286</td>\n",
       "      <td>0.618785</td>\n",
       "      <td>0.535714</td>\n",
       "      <td>0.0</td>\n",
       "      <td>0.0</td>\n",
       "    </tr>\n",
       "    <tr>\n",
       "      <th>1824</th>\n",
       "      <td>2020-12-29</td>\n",
       "      <td>0.0</td>\n",
       "      <td>0.195031</td>\n",
       "      <td>0.220339</td>\n",
       "      <td>0.097561</td>\n",
       "      <td>0.942857</td>\n",
       "      <td>1.000000</td>\n",
       "      <td>0.397790</td>\n",
       "      <td>0.432143</td>\n",
       "      <td>0.0</td>\n",
       "      <td>0.0</td>\n",
       "    </tr>\n",
       "    <tr>\n",
       "      <th>1825</th>\n",
       "      <td>2020-12-30</td>\n",
       "      <td>0.0</td>\n",
       "      <td>0.055901</td>\n",
       "      <td>0.288136</td>\n",
       "      <td>0.146341</td>\n",
       "      <td>0.714286</td>\n",
       "      <td>0.714286</td>\n",
       "      <td>0.220994</td>\n",
       "      <td>0.217857</td>\n",
       "      <td>0.0</td>\n",
       "      <td>0.0</td>\n",
       "    </tr>\n",
       "    <tr>\n",
       "      <th>1826</th>\n",
       "      <td>2020-12-31</td>\n",
       "      <td>0.0</td>\n",
       "      <td>0.195031</td>\n",
       "      <td>0.305085</td>\n",
       "      <td>0.121951</td>\n",
       "      <td>0.971429</td>\n",
       "      <td>0.971429</td>\n",
       "      <td>0.508287</td>\n",
       "      <td>0.496429</td>\n",
       "      <td>0.0</td>\n",
       "      <td>0.0</td>\n",
       "    </tr>\n",
       "  </tbody>\n",
       "</table>\n",
       "<p>1827 rows × 11 columns</p>\n",
       "</div>"
      ],
      "text/plain": [
       "            DATE  PRCP      AWND      TMAX      TMIN      WDF2      WDF5  \\\n",
       "0     2016-01-01   0.0  0.305590  0.203390  0.121951  0.000000  0.057143   \n",
       "1     2016-01-02   0.0  0.249689  0.220339  0.219512  0.742857  0.057143   \n",
       "2     2016-01-03   0.0  0.083230  0.169492  0.146341  0.400000  0.400000   \n",
       "3     2016-01-04   1.0  0.166460  0.288136  0.414634  0.742857  0.771429   \n",
       "4     2016-01-05   1.0  0.305590  0.118644  0.268293  0.371429  0.371429   \n",
       "...          ...   ...       ...       ...       ...       ...       ...   \n",
       "1822  2020-12-27   1.0  0.139130  0.237288  0.414634  0.742857  0.714286   \n",
       "1823  2020-12-28   1.0  0.583851  0.067797  0.219512  0.228571  0.714286   \n",
       "1824  2020-12-29   0.0  0.195031  0.220339  0.097561  0.942857  1.000000   \n",
       "1825  2020-12-30   0.0  0.055901  0.288136  0.146341  0.714286  0.714286   \n",
       "1826  2020-12-31   0.0  0.195031  0.305085  0.121951  0.971429  0.971429   \n",
       "\n",
       "          WSF2      WSF5  WT01  WT08  \n",
       "0     0.287293  0.178571   0.0   0.0  \n",
       "1     0.171271  0.103571   0.0   0.0  \n",
       "2     0.397790  0.289286   0.0   0.0  \n",
       "3     0.287293  0.289286   0.0   0.0  \n",
       "4     0.397790  0.360714   0.0   0.0  \n",
       "...        ...       ...   ...   ...  \n",
       "1822  0.331492  0.432143   0.0   0.0  \n",
       "1823  0.618785  0.535714   0.0   0.0  \n",
       "1824  0.397790  0.432143   0.0   0.0  \n",
       "1825  0.220994  0.217857   0.0   0.0  \n",
       "1826  0.508287  0.496429   0.0   0.0  \n",
       "\n",
       "[1827 rows x 11 columns]"
      ]
     },
     "execution_count": 21,
     "metadata": {},
     "output_type": "execute_result"
    }
   ],
   "source": [
    "df_norm"
   ]
  },
  {
   "cell_type": "code",
   "execution_count": 22,
   "id": "23a1b844",
   "metadata": {},
   "outputs": [],
   "source": [
    "#CHI-SQUARE TEST\n",
    "import seaborn as sns\n",
    "from sklearn.preprocessing import LabelEncoder\n",
    "from sklearn.feature_selection import chi2\n",
    "from sklearn.feature_selection import SelectKBest\n"
   ]
  },
  {
   "cell_type": "code",
   "execution_count": 23,
   "id": "ee962cb7",
   "metadata": {},
   "outputs": [],
   "source": [
    "label_encoder = LabelEncoder()\n",
    "df_norm['DATE'] = label_encoder.fit_transform(df_norm['DATE'])"
   ]
  },
  {
   "cell_type": "code",
   "execution_count": 24,
   "id": "70853f6d",
   "metadata": {},
   "outputs": [],
   "source": [
    "X = df_norm.drop('PRCP',axis=1)\n",
    "y = df_norm['PRCP']"
   ]
  },
  {
   "cell_type": "code",
   "execution_count": 25,
   "id": "035b142a",
   "metadata": {},
   "outputs": [],
   "source": [
    "chi_scores = chi2(X,y)"
   ]
  },
  {
   "cell_type": "code",
   "execution_count": 26,
   "id": "9c57c1a2",
   "metadata": {},
   "outputs": [
    {
     "data": {
      "text/plain": [
       "(array([845.54850795,   9.82099324,  16.84804817,   3.80477649,\n",
       "          6.87066953,   5.4348588 ,   2.61564869,   5.04941346,\n",
       "                 nan,          nan]),\n",
       " array([6.75045568e-186, 1.72531145e-003, 4.04949539e-005, 5.11065964e-002,\n",
       "        8.76218182e-003, 1.97386864e-002, 1.05814246e-001, 2.46342760e-002,\n",
       "                    nan,             nan]))"
      ]
     },
     "execution_count": 26,
     "metadata": {},
     "output_type": "execute_result"
    }
   ],
   "source": [
    "chi_scores"
   ]
  },
  {
   "cell_type": "code",
   "execution_count": 27,
   "id": "fefa0f70",
   "metadata": {},
   "outputs": [],
   "source": [
    "p_values = pd.Series(chi_scores[1],index = X.columns)\n",
    "p_values.sort_values(ascending = False , inplace = True)"
   ]
  },
  {
   "cell_type": "code",
   "execution_count": 28,
   "id": "29fe17ca",
   "metadata": {},
   "outputs": [
    {
     "data": {
      "text/plain": [
       "<AxesSubplot:>"
      ]
     },
     "execution_count": 28,
     "metadata": {},
     "output_type": "execute_result"
    },
    {
     "data": {
      "image/png": "[encoded data removed]",
      "text/plain": [
       "<Figure size 432x288 with 1 Axes>"
      ]
     },
     "metadata": {
      "needs_background": "light"
     },
     "output_type": "display_data"
    }
   ],
   "source": [
    "p_values.plot.bar()# since WSF2 is higher the p_value means this variable is independent of the respnse , hence should be droped)"
   ]
  },
  {
   "cell_type": "code",
   "execution_count": 29,
   "id": "d71e58ca",
   "metadata": {},
   "outputs": [],
   "source": [
    "df_norm=df_norm.drop(columns='WSF2')\n",
    "df_norm=df_norm.drop(columns='TMIN')\n",
    "df_norm=df_norm.drop(columns='WSF5')\n",
    "df_norm=df_norm.drop(columns='WDF5')\n",
    "df_norm=df_norm.drop(columns='DATE')\n"
   ]
  },
  {
   "cell_type": "code",
   "execution_count": 30,
   "id": "bc86d21c",
   "metadata": {},
   "outputs": [
    {
     "data": {
      "text/html": [
       "<div>\n",
       "<style scoped>\n",
       "    .dataframe tbody tr th:only-of-type {\n",
       "        vertical-align: middle;\n",
       "    }\n",
       "\n",
       "    .dataframe tbody tr th {\n",
       "        vertical-align: top;\n",
       "    }\n",
       "\n",
       "    .dataframe thead th {\n",
       "        text-align: right;\n",
       "    }\n",
       "</style>\n",
       "<table border=\"1\" class=\"dataframe\">\n",
       "  <thead>\n",
       "    <tr style=\"text-align: right;\">\n",
       "      <th></th>\n",
       "      <th>PRCP</th>\n",
       "      <th>AWND</th>\n",
       "      <th>TMAX</th>\n",
       "      <th>WDF2</th>\n",
       "      <th>WT01</th>\n",
       "      <th>WT08</th>\n",
       "    </tr>\n",
       "  </thead>\n",
       "  <tbody>\n",
       "    <tr>\n",
       "      <th>0</th>\n",
       "      <td>0.0</td>\n",
       "      <td>0.305590</td>\n",
       "      <td>0.203390</td>\n",
       "      <td>0.000000</td>\n",
       "      <td>0.0</td>\n",
       "      <td>0.0</td>\n",
       "    </tr>\n",
       "    <tr>\n",
       "      <th>1</th>\n",
       "      <td>0.0</td>\n",
       "      <td>0.249689</td>\n",
       "      <td>0.220339</td>\n",
       "      <td>0.742857</td>\n",
       "      <td>0.0</td>\n",
       "      <td>0.0</td>\n",
       "    </tr>\n",
       "    <tr>\n",
       "      <th>2</th>\n",
       "      <td>0.0</td>\n",
       "      <td>0.083230</td>\n",
       "      <td>0.169492</td>\n",
       "      <td>0.400000</td>\n",
       "      <td>0.0</td>\n",
       "      <td>0.0</td>\n",
       "    </tr>\n",
       "    <tr>\n",
       "      <th>3</th>\n",
       "      <td>1.0</td>\n",
       "      <td>0.166460</td>\n",
       "      <td>0.288136</td>\n",
       "      <td>0.742857</td>\n",
       "      <td>0.0</td>\n",
       "      <td>0.0</td>\n",
       "    </tr>\n",
       "    <tr>\n",
       "      <th>4</th>\n",
       "      <td>1.0</td>\n",
       "      <td>0.305590</td>\n",
       "      <td>0.118644</td>\n",
       "      <td>0.371429</td>\n",
       "      <td>0.0</td>\n",
       "      <td>0.0</td>\n",
       "    </tr>\n",
       "    <tr>\n",
       "      <th>...</th>\n",
       "      <td>...</td>\n",
       "      <td>...</td>\n",
       "      <td>...</td>\n",
       "      <td>...</td>\n",
       "      <td>...</td>\n",
       "      <td>...</td>\n",
       "    </tr>\n",
       "    <tr>\n",
       "      <th>1822</th>\n",
       "      <td>1.0</td>\n",
       "      <td>0.139130</td>\n",
       "      <td>0.237288</td>\n",
       "      <td>0.742857</td>\n",
       "      <td>0.0</td>\n",
       "      <td>0.0</td>\n",
       "    </tr>\n",
       "    <tr>\n",
       "      <th>1823</th>\n",
       "      <td>1.0</td>\n",
       "      <td>0.583851</td>\n",
       "      <td>0.067797</td>\n",
       "      <td>0.228571</td>\n",
       "      <td>0.0</td>\n",
       "      <td>0.0</td>\n",
       "    </tr>\n",
       "    <tr>\n",
       "      <th>1824</th>\n",
       "      <td>0.0</td>\n",
       "      <td>0.195031</td>\n",
       "      <td>0.220339</td>\n",
       "      <td>0.942857</td>\n",
       "      <td>0.0</td>\n",
       "      <td>0.0</td>\n",
       "    </tr>\n",
       "    <tr>\n",
       "      <th>1825</th>\n",
       "      <td>0.0</td>\n",
       "      <td>0.055901</td>\n",
       "      <td>0.288136</td>\n",
       "      <td>0.714286</td>\n",
       "      <td>0.0</td>\n",
       "      <td>0.0</td>\n",
       "    </tr>\n",
       "    <tr>\n",
       "      <th>1826</th>\n",
       "      <td>0.0</td>\n",
       "      <td>0.195031</td>\n",
       "      <td>0.305085</td>\n",
       "      <td>0.971429</td>\n",
       "      <td>0.0</td>\n",
       "      <td>0.0</td>\n",
       "    </tr>\n",
       "  </tbody>\n",
       "</table>\n",
       "<p>1827 rows × 6 columns</p>\n",
       "</div>"
      ],
      "text/plain": [
       "      PRCP      AWND      TMAX      WDF2  WT01  WT08\n",
       "0      0.0  0.305590  0.203390  0.000000   0.0   0.0\n",
       "1      0.0  0.249689  0.220339  0.742857   0.0   0.0\n",
       "2      0.0  0.083230  0.169492  0.400000   0.0   0.0\n",
       "3      1.0  0.166460  0.288136  0.742857   0.0   0.0\n",
       "4      1.0  0.305590  0.118644  0.371429   0.0   0.0\n",
       "...    ...       ...       ...       ...   ...   ...\n",
       "1822   1.0  0.139130  0.237288  0.742857   0.0   0.0\n",
       "1823   1.0  0.583851  0.067797  0.228571   0.0   0.0\n",
       "1824   0.0  0.195031  0.220339  0.942857   0.0   0.0\n",
       "1825   0.0  0.055901  0.288136  0.714286   0.0   0.0\n",
       "1826   0.0  0.195031  0.305085  0.971429   0.0   0.0\n",
       "\n",
       "[1827 rows x 6 columns]"
      ]
     },
     "execution_count": 30,
     "metadata": {},
     "output_type": "execute_result"
    }
   ],
   "source": [
    "df_norm"
   ]
  },
  {
   "cell_type": "code",
   "execution_count": 31,
   "id": "8e57d637",
   "metadata": {},
   "outputs": [],
   "source": [
    "# slpiliting the data in train and test "
   ]
  },
  {
   "cell_type": "code",
   "execution_count": 32,
   "id": "faacee14",
   "metadata": {},
   "outputs": [],
   "source": [
    "from sklearn.model_selection import train_test_split\n",
    "y = df_norm.PRCP.values\n",
    "X = df_norm.drop('PRCP', axis=1)\n",
    "\n",
    "X_train, X_test, y_train, y_test = train_test_split(X, y, test_size=0.2, random_state=75)"
   ]
  },
  {
   "cell_type": "code",
   "execution_count": 33,
   "id": "36b811c1",
   "metadata": {},
   "outputs": [
    {
     "data": {
      "text/html": [
       "<div>\n",
       "<style scoped>\n",
       "    .dataframe tbody tr th:only-of-type {\n",
       "        vertical-align: middle;\n",
       "    }\n",
       "\n",
       "    .dataframe tbody tr th {\n",
       "        vertical-align: top;\n",
       "    }\n",
       "\n",
       "    .dataframe thead th {\n",
       "        text-align: right;\n",
       "    }\n",
       "</style>\n",
       "<table border=\"1\" class=\"dataframe\">\n",
       "  <thead>\n",
       "    <tr style=\"text-align: right;\">\n",
       "      <th></th>\n",
       "      <th>AWND</th>\n",
       "      <th>TMAX</th>\n",
       "      <th>WDF2</th>\n",
       "      <th>WT01</th>\n",
       "      <th>WT08</th>\n",
       "    </tr>\n",
       "  </thead>\n",
       "  <tbody>\n",
       "    <tr>\n",
       "      <th>791</th>\n",
       "      <td>0.388820</td>\n",
       "      <td>0.118644</td>\n",
       "      <td>0.257143</td>\n",
       "      <td>0.0</td>\n",
       "      <td>0.0</td>\n",
       "    </tr>\n",
       "    <tr>\n",
       "      <th>1513</th>\n",
       "      <td>0.278261</td>\n",
       "      <td>0.237288</td>\n",
       "      <td>0.714286</td>\n",
       "      <td>0.0</td>\n",
       "      <td>0.0</td>\n",
       "    </tr>\n",
       "    <tr>\n",
       "      <th>56</th>\n",
       "      <td>0.195031</td>\n",
       "      <td>0.457627</td>\n",
       "      <td>0.771429</td>\n",
       "      <td>0.0</td>\n",
       "      <td>0.0</td>\n",
       "    </tr>\n",
       "    <tr>\n",
       "      <th>1785</th>\n",
       "      <td>0.055901</td>\n",
       "      <td>0.389831</td>\n",
       "      <td>0.742857</td>\n",
       "      <td>0.0</td>\n",
       "      <td>0.0</td>\n",
       "    </tr>\n",
       "    <tr>\n",
       "      <th>522</th>\n",
       "      <td>0.139130</td>\n",
       "      <td>0.355932</td>\n",
       "      <td>0.714286</td>\n",
       "      <td>0.0</td>\n",
       "      <td>0.0</td>\n",
       "    </tr>\n",
       "    <tr>\n",
       "      <th>...</th>\n",
       "      <td>...</td>\n",
       "      <td>...</td>\n",
       "      <td>...</td>\n",
       "      <td>...</td>\n",
       "      <td>...</td>\n",
       "    </tr>\n",
       "    <tr>\n",
       "      <th>1100</th>\n",
       "      <td>0.472050</td>\n",
       "      <td>0.101695</td>\n",
       "      <td>0.228571</td>\n",
       "      <td>0.0</td>\n",
       "      <td>0.0</td>\n",
       "    </tr>\n",
       "    <tr>\n",
       "      <th>1292</th>\n",
       "      <td>0.195031</td>\n",
       "      <td>0.559322</td>\n",
       "      <td>0.714286</td>\n",
       "      <td>0.0</td>\n",
       "      <td>0.0</td>\n",
       "    </tr>\n",
       "    <tr>\n",
       "      <th>926</th>\n",
       "      <td>0.166460</td>\n",
       "      <td>0.593220</td>\n",
       "      <td>0.742857</td>\n",
       "      <td>0.0</td>\n",
       "      <td>0.0</td>\n",
       "    </tr>\n",
       "    <tr>\n",
       "      <th>374</th>\n",
       "      <td>0.278261</td>\n",
       "      <td>0.203390</td>\n",
       "      <td>0.257143</td>\n",
       "      <td>0.0</td>\n",
       "      <td>0.0</td>\n",
       "    </tr>\n",
       "    <tr>\n",
       "      <th>922</th>\n",
       "      <td>0.139130</td>\n",
       "      <td>0.644068</td>\n",
       "      <td>0.742857</td>\n",
       "      <td>0.0</td>\n",
       "      <td>0.0</td>\n",
       "    </tr>\n",
       "  </tbody>\n",
       "</table>\n",
       "<p>366 rows × 5 columns</p>\n",
       "</div>"
      ],
      "text/plain": [
       "          AWND      TMAX      WDF2  WT01  WT08\n",
       "791   0.388820  0.118644  0.257143   0.0   0.0\n",
       "1513  0.278261  0.237288  0.714286   0.0   0.0\n",
       "56    0.195031  0.457627  0.771429   0.0   0.0\n",
       "1785  0.055901  0.389831  0.742857   0.0   0.0\n",
       "522   0.139130  0.355932  0.714286   0.0   0.0\n",
       "...        ...       ...       ...   ...   ...\n",
       "1100  0.472050  0.101695  0.228571   0.0   0.0\n",
       "1292  0.195031  0.559322  0.714286   0.0   0.0\n",
       "926   0.166460  0.593220  0.742857   0.0   0.0\n",
       "374   0.278261  0.203390  0.257143   0.0   0.0\n",
       "922   0.139130  0.644068  0.742857   0.0   0.0\n",
       "\n",
       "[366 rows x 5 columns]"
      ]
     },
     "execution_count": 33,
     "metadata": {},
     "output_type": "execute_result"
    }
   ],
   "source": [
    "X_test"
   ]
  },
  {
   "cell_type": "code",
   "execution_count": 34,
   "id": "9537ad57",
   "metadata": {},
   "outputs": [],
   "source": [
    "#Logistic regressoion "
   ]
  },
  {
   "cell_type": "code",
   "execution_count": 35,
   "id": "9508f3f4",
   "metadata": {},
   "outputs": [
    {
     "data": {
      "text/html": [
       "<style>#sk-container-id-1 {color: black;background-color: white;}#sk-container-id-1 pre{padding: 0;}#sk-container-id-1 div.sk-toggleable {background-color: white;}#sk-container-id-1 label.sk-toggleable__label {cursor: pointer;display: block;width: 100%;margin-bottom: 0;padding: 0.3em;box-sizing: border-box;text-align: center;}#sk-container-id-1 label.sk-toggleable__label-arrow:before {content: \"▸\";float: left;margin-right: 0.25em;color: #696969;}#sk-container-id-1 label.sk-toggleable__label-arrow:hover:before {color: black;}#sk-container-id-1 div.sk-estimator:hover label.sk-toggleable__label-arrow:before {color: black;}#sk-container-id-1 div.sk-toggleable__content {max-height: 0;max-width: 0;overflow: hidden;text-align: left;background-color: #f0f8ff;}#sk-container-id-1 div.sk-toggleable__content pre {margin: 0.2em;color: black;border-radius: 0.25em;background-color: #f0f8ff;}#sk-container-id-1 input.sk-toggleable__control:checked~div.sk-toggleable__content {max-height: 200px;max-width: 100%;overflow: auto;}#sk-container-id-1 input.sk-toggleable__control:checked~label.sk-toggleable__label-arrow:before {content: \"▾\";}#sk-container-id-1 div.sk-estimator input.sk-toggleable__control:checked~label.sk-toggleable__label {background-color: #d4ebff;}#sk-container-id-1 div.sk-label input.sk-toggleable__control:checked~label.sk-toggleable__label {background-color: #d4ebff;}#sk-container-id-1 input.sk-hidden--visually {border: 0;clip: rect(1px 1px 1px 1px);clip: rect(1px, 1px, 1px, 1px);height: 1px;margin: -1px;overflow: hidden;padding: 0;position: absolute;width: 1px;}#sk-container-id-1 div.sk-estimator {font-family: monospace;background-color: #f0f8ff;border: 1px dotted black;border-radius: 0.25em;box-sizing: border-box;margin-bottom: 0.5em;}#sk-container-id-1 div.sk-estimator:hover {background-color: #d4ebff;}#sk-container-id-1 div.sk-parallel-item::after {content: \"\";width: 100%;border-bottom: 1px solid gray;flex-grow: 1;}#sk-container-id-1 div.sk-label:hover label.sk-toggleable__label {background-color: #d4ebff;}#sk-container-id-1 div.sk-serial::before {content: \"\";position: absolute;border-left: 1px solid gray;box-sizing: border-box;top: 0;bottom: 0;left: 50%;z-index: 0;}#sk-container-id-1 div.sk-serial {display: flex;flex-direction: column;align-items: center;background-color: white;padding-right: 0.2em;padding-left: 0.2em;position: relative;}#sk-container-id-1 div.sk-item {position: relative;z-index: 1;}#sk-container-id-1 div.sk-parallel {display: flex;align-items: stretch;justify-content: center;background-color: white;position: relative;}#sk-container-id-1 div.sk-item::before, #sk-container-id-1 div.sk-parallel-item::before {content: \"\";position: absolute;border-left: 1px solid gray;box-sizing: border-box;top: 0;bottom: 0;left: 50%;z-index: -1;}#sk-container-id-1 div.sk-parallel-item {display: flex;flex-direction: column;z-index: 1;position: relative;background-color: white;}#sk-container-id-1 div.sk-parallel-item:first-child::after {align-self: flex-end;width: 50%;}#sk-container-id-1 div.sk-parallel-item:last-child::after {align-self: flex-start;width: 50%;}#sk-container-id-1 div.sk-parallel-item:only-child::after {width: 0;}#sk-container-id-1 div.sk-dashed-wrapped {border: 1px dashed gray;margin: 0 0.4em 0.5em 0.4em;box-sizing: border-box;padding-bottom: 0.4em;background-color: white;}#sk-container-id-1 div.sk-label label {font-family: monospace;font-weight: bold;display: inline-block;line-height: 1.2em;}#sk-container-id-1 div.sk-label-container {text-align: center;}#sk-container-id-1 div.sk-container {/* jupyter's `normalize.less` sets `[hidden] { display: none; }` but bootstrap.min.css set `[hidden] { display: none !important; }` so we also need the `!important` here to be able to override the default hidden behavior on the sphinx rendered scikit-learn.org. See: https://github.com/scikit-learn/scikit-learn/issues/21755 */display: inline-block !important;position: relative;}#sk-container-id-1 div.sk-text-repr-fallback {display: none;}</style><div id=\"sk-container-id-1\" class=\"sk-top-container\"><div class=\"sk-text-repr-fallback\"><pre>LogisticRegression()</pre><b>In a Jupyter environment, please rerun this cell to show the HTML representation or trust the notebook. <br />On GitHub, the HTML representation is unable to render, please try loading this page with nbviewer.org.</b></div><div class=\"sk-container\" hidden><div class=\"sk-item\"><div class=\"sk-estimator sk-toggleable\"><input class=\"sk-toggleable__control sk-hidden--visually\" id=\"sk-estimator-id-1\" type=\"checkbox\" checked><label for=\"sk-estimator-id-1\" class=\"sk-toggleable__label sk-toggleable__label-arrow\">LogisticRegression</label><div class=\"sk-toggleable__content\"><pre>LogisticRegression()</pre></div></div></div></div></div>"
      ],
      "text/plain": [
       "LogisticRegression()"
      ]
     },
     "execution_count": 35,
     "metadata": {},
     "output_type": "execute_result"
    }
   ],
   "source": [
    "from sklearn.linear_model import LogisticRegression\n",
    "model=LogisticRegression()\n",
    "model.fit(X_train,y_train)"
   ]
  },
  {
   "cell_type": "code",
   "execution_count": 36,
   "id": "cb665af5",
   "metadata": {},
   "outputs": [
    {
     "data": {
      "text/plain": [
       "array([1., 0., 0., 0., 0., 0., 0., 0., 0., 0., 0., 0., 0., 0., 0., 0., 0.,\n",
       "       0., 0., 0., 0., 0., 0., 0., 0., 0., 0., 0., 0., 0., 0., 0., 0., 0.,\n",
       "       0., 0., 0., 0., 0., 0., 0., 0., 0., 0., 0., 0., 0., 0., 0., 0., 0.,\n",
       "       0., 0., 0., 1., 0., 0., 0., 0., 0., 0., 0., 0., 0., 0., 0., 0., 0.,\n",
       "       0., 0., 0., 0., 0., 0., 0., 0., 0., 0., 0., 0., 0., 0., 0., 1., 0.,\n",
       "       0., 0., 0., 0., 0., 0., 0., 0., 0., 0., 0., 0., 0., 0., 0., 0., 0.,\n",
       "       0., 0., 0., 0., 0., 0., 1., 0., 0., 0., 0., 0., 0., 1., 0., 0., 0.,\n",
       "       0., 0., 0., 0., 0., 0., 0., 0., 1., 0., 0., 0., 0., 0., 0., 0., 0.,\n",
       "       0., 0., 0., 0., 0., 0., 0., 0., 0., 0., 0., 0., 0., 0., 0., 0., 0.,\n",
       "       1., 0., 0., 0., 0., 0., 0., 0., 0., 0., 0., 0., 0., 0., 0., 0., 0.,\n",
       "       0., 0., 0., 0., 0., 0., 0., 0., 1., 0., 0., 0., 0., 0., 0., 0., 0.,\n",
       "       0., 0., 0., 0., 0., 0., 0., 0., 0., 0., 0., 0., 0., 0., 0., 0., 0.,\n",
       "       0., 0., 0., 0., 0., 0., 0., 0., 0., 0., 0., 0., 0., 1., 0., 0., 0.,\n",
       "       0., 0., 0., 0., 0., 0., 0., 0., 0., 0., 0., 0., 0., 0., 0., 0., 0.,\n",
       "       0., 0., 0., 0., 0., 0., 0., 0., 0., 0., 0., 1., 0., 0., 0., 0., 0.,\n",
       "       0., 0., 0., 0., 0., 0., 0., 0., 0., 0., 0., 0., 0., 0., 0., 0., 0.,\n",
       "       0., 0., 0., 0., 0., 0., 0., 0., 0., 0., 0., 0., 0., 0., 0., 0., 0.,\n",
       "       0., 0., 0., 0., 0., 0., 0., 0., 0., 0., 0., 0., 0., 0., 0., 0., 0.,\n",
       "       0., 0., 0., 0., 0., 0., 0., 0., 0., 0., 0., 0., 0., 0., 0., 0., 0.,\n",
       "       0., 0., 0., 0., 0., 0., 0., 0., 0., 1., 0., 0., 0., 0., 0., 0., 0.,\n",
       "       0., 0., 0., 0., 0., 0., 0., 0., 0., 0., 0., 0., 0., 0., 0., 0., 0.,\n",
       "       0., 0., 0., 0., 1., 0., 0., 0., 0.])"
      ]
     },
     "execution_count": 36,
     "metadata": {},
     "output_type": "execute_result"
    }
   ],
   "source": [
    "y_pred_logistic=model.predict(X_test)\n",
    "y_pred_logistic"
   ]
  },
  {
   "cell_type": "markdown",
   "id": "e1a34dc2",
   "metadata": {},
   "source": [
    " ### We got the accuracy "
   ]
  },
  {
   "cell_type": "code",
   "execution_count": 37,
   "id": "67223639",
   "metadata": {},
   "outputs": [
    {
     "data": {
      "text/plain": [
       "0.9344262295081968"
      ]
     },
     "execution_count": 37,
     "metadata": {},
     "output_type": "execute_result"
    }
   ],
   "source": [
    "from sklearn.metrics import accuracy_score\n",
    "accuracy_score(y_test,y_pred_logistic) "
   ]
  },
  {
   "cell_type": "markdown",
   "id": "2d3c73ab",
   "metadata": {},
   "source": [
    "####Confusion matrix"
   ]
  },
  {
   "cell_type": "code",
   "execution_count": 38,
   "id": "12e6bbf2",
   "metadata": {},
   "outputs": [
    {
     "name": "stdout",
     "output_type": "stream",
     "text": [
      "[[333   3]\n",
      " [ 21   9]]\n"
     ]
    }
   ],
   "source": [
    "from sklearn.metrics import confusion_matrix\n",
    "\n",
    "#Generate the confusion matrix\n",
    "cf_matrix = confusion_matrix(y_test, y_pred_logistic)\n",
    "\n",
    "print(cf_matrix)"
   ]
  },
  {
   "cell_type": "code",
   "execution_count": 39,
   "id": "f01bd240",
   "metadata": {},
   "outputs": [],
   "source": [
    "True_positive=17\n",
    "True_negative=328\n",
    "False_positive=8\n",
    "False_negative=13"
   ]
  },
  {
   "cell_type": "markdown",
   "id": "0dafff4d",
   "metadata": {},
   "source": [
    "####Precision"
   ]
  },
  {
   "cell_type": "code",
   "execution_count": 40,
   "id": "8d774ad4",
   "metadata": {},
   "outputs": [
    {
     "data": {
      "text/plain": [
       "0.68"
      ]
     },
     "execution_count": 40,
     "metadata": {},
     "output_type": "execute_result"
    }
   ],
   "source": [
    "precision=True_positive/(True_positive+False_positive)\n",
    "precision"
   ]
  },
  {
   "cell_type": "code",
   "execution_count": 41,
   "id": "b13a162c",
   "metadata": {},
   "outputs": [
    {
     "data": {
      "text/plain": [
       "0.5666666666666667"
      ]
     },
     "execution_count": 41,
     "metadata": {},
     "output_type": "execute_result"
    }
   ],
   "source": [
    "#recall\n",
    "recall=True_positive/(True_positive+False_negative)\n",
    "recall"
   ]
  },
  {
   "cell_type": "code",
   "execution_count": 42,
   "id": "b50f8d65",
   "metadata": {},
   "outputs": [
    {
     "data": {
      "text/plain": [
       "0.6181818181818183"
      ]
     },
     "execution_count": 42,
     "metadata": {},
     "output_type": "execute_result"
    }
   ],
   "source": [
    "#F1\n",
    "F1 = 2 * (precision * recall) / (precision + recall)\n",
    "F1"
   ]
  },
  {
   "cell_type": "code",
   "execution_count": 43,
   "id": "030604be",
   "metadata": {},
   "outputs": [],
   "source": [
    "# Adjust threshold for minimum false negative\n",
    "def predict_threshold (model,X_test,thresholds):\n",
    "    import numpy as np\n",
    "    return np.where(model.predict_proba(X_test)[:,1]>thresholds,1,0) "
   ]
  },
  {
   "cell_type": "code",
   "execution_count": 44,
   "id": "ba630a9d",
   "metadata": {},
   "outputs": [
    {
     "name": "stdout",
     "output_type": "stream",
     "text": [
      "Threshold : 0.0\n",
      "[[  0 336]\n",
      " [  0  30]]\n",
      "Threshold : 0.1\n",
      "[[276  60]\n",
      " [  7  23]]\n",
      "Threshold : 0.2\n",
      "[[313  23]\n",
      " [ 11  19]]\n",
      "Threshold : 0.30000000000000004\n",
      "[[324  12]\n",
      " [ 16  14]]\n",
      "Threshold : 0.4\n",
      "[[329   7]\n",
      " [ 20  10]]\n",
      "Threshold : 0.5\n",
      "[[333   3]\n",
      " [ 21   9]]\n",
      "Threshold : 0.6000000000000001\n",
      "[[336   0]\n",
      " [ 21   9]]\n",
      "Threshold : 0.7000000000000001\n",
      "[[336   0]\n",
      " [ 23   7]]\n",
      "Threshold : 0.8\n",
      "[[336   0]\n",
      " [ 27   3]]\n",
      "Threshold : 0.9\n",
      "[[336   0]\n",
      " [ 29   1]]\n"
     ]
    }
   ],
   "source": [
    "import numpy as np\n",
    "from sklearn.metrics import confusion_matrix\n",
    "for thr in np.arange(0,1.0,0.1):\n",
    "    y_predict = predict_threshold(model,X_test,thr)\n",
    "    print(\"Threshold :\",thr)\n",
    "    print(confusion_matrix(y_test,y_predict))"
   ]
  },
  {
   "cell_type": "code",
   "execution_count": 45,
   "id": "01a131d7",
   "metadata": {},
   "outputs": [],
   "source": [
    "from sklearn.metrics import roc_curve, roc_auc_score"
   ]
  },
  {
   "cell_type": "code",
   "execution_count": 46,
   "id": "b4deb457",
   "metadata": {},
   "outputs": [
    {
     "data": {
      "text/plain": [
       "array([1.90168445, 0.90168445, 0.65274616, 0.45511394, 0.4367073 ,\n",
       "       0.40759836, 0.38619096, 0.37143157, 0.36868573, 0.35887173,\n",
       "       0.31894266, 0.30610731, 0.30056065, 0.29076133, 0.27310257,\n",
       "       0.26704345, 0.26148778, 0.25808345, 0.24637733, 0.20516979,\n",
       "       0.19858944, 0.18454731, 0.17967439, 0.14640623, 0.14451068,\n",
       "       0.14039848, 0.13532417, 0.13510737, 0.1270398 , 0.1268404 ,\n",
       "       0.11985846, 0.11806582, 0.10001799, 0.09985122, 0.09951843,\n",
       "       0.09728503, 0.09403657, 0.08979968, 0.08841145, 0.08772964,\n",
       "       0.08651679, 0.08389303, 0.08375065, 0.08334293, 0.08094473,\n",
       "       0.08080691, 0.0806693 , 0.07943241, 0.07940991, 0.07769171,\n",
       "       0.06381207, 0.06290708, 0.05518941, 0.05457842, 0.05448283,\n",
       "       0.05069174, 0.0505136 , 0.04767256, 0.04742067, 0.04697436,\n",
       "       0.04533959, 0.04525941, 0.04390458, 0.04382681, 0.04174573,\n",
       "       0.04052841, 0.03772828, 0.03759389, 0.0366217 , 0.03633802,\n",
       "       0.03545237, 0.03505178, 0.0314091 , 0.03113545, 0.02929784,\n",
       "       0.02906918, 0.0289647 , 0.0272516 , 0.02698973, 0.02632569,\n",
       "       0.02598449, 0.02416391, 0.02407662, 0.02321931, 0.02074213,\n",
       "       0.0207045 , 0.01549281, 0.01534215, 0.01476414, 0.0147372 ,\n",
       "       0.013971  , 0.01366855, 0.01280122, 0.01269962, 0.00910731,\n",
       "       0.0086604 , 0.00194635])"
      ]
     },
     "execution_count": 46,
     "metadata": {},
     "output_type": "execute_result"
    }
   ],
   "source": [
    "tpr,fpr,thresholds = roc_curve(y_test,model.predict_proba(X_test)[:,1])\n",
    "thresholds"
   ]
  },
  {
   "cell_type": "code",
   "execution_count": 47,
   "id": "7420f4f0",
   "metadata": {},
   "outputs": [
    {
     "data": {
      "image/png": "[encoded data removed]",
      "text/plain": [
       "<Figure size 432x288 with 1 Axes>"
      ]
     },
     "metadata": {
      "needs_background": "light"
     },
     "output_type": "display_data"
    }
   ],
   "source": [
    "import matplotlib.pyplot as plt\n",
    "from sklearn.metrics import roc_curve,roc_auc_score\n",
    "%matplotlib inline\n",
    "fpr, tpr, thresholds = roc_curve(y_test, model.predict_proba(X_test)[:,1],drop_intermediate=False)\n",
    "plt.xlim([0.0, 1.0])\n",
    "plt.ylim([0.0, 1.0])\n",
    "plt.title('ROC curve')\n",
    "plt.xlabel('False Positive Rate ')\n",
    "plt.ylabel('True Positive Rate ')\n",
    "plt.plot(fpr, tpr,color='red',lw=7)\n",
    "plt.show()"
   ]
  },
  {
   "cell_type": "markdown",
   "id": "e05a31df",
   "metadata": {},
   "source": [
    "###ROC_AUC score"
   ]
  },
  {
   "cell_type": "code",
   "execution_count": 48,
   "id": "9813e1cb",
   "metadata": {},
   "outputs": [
    {
     "data": {
      "text/plain": [
       "0.911656746031746"
      ]
     },
     "execution_count": 48,
     "metadata": {},
     "output_type": "execute_result"
    }
   ],
   "source": [
    "\n",
    "roc_auc_score(y_test, model.predict_proba(X_test)[:,1])"
   ]
  },
  {
   "cell_type": "markdown",
   "id": "2ead9111",
   "metadata": {},
   "source": [
    "create knn classifier model\n"
   ]
  },
  {
   "cell_type": "code",
   "execution_count": 49,
   "id": "22e2605b",
   "metadata": {},
   "outputs": [],
   "source": [
    "from sklearn.model_selection import train_test_split\n",
    "from sklearn import neighbors, metrics\n",
    "\n"
   ]
  },
  {
   "cell_type": "code",
   "execution_count": 50,
   "id": "d7b22380",
   "metadata": {},
   "outputs": [],
   "source": [
    "X = df_norm.drop('PRCP',axis=1)\n",
    "y = df_norm['PRCP']"
   ]
  },
  {
   "cell_type": "code",
   "execution_count": 51,
   "id": "0c158bf2",
   "metadata": {},
   "outputs": [
    {
     "name": "stdout",
     "output_type": "stream",
     "text": [
      "          AWND      TMAX      WDF2  WT01  WT08\n",
      "0     0.305590  0.203390  0.000000   0.0   0.0\n",
      "1     0.249689  0.220339  0.742857   0.0   0.0\n",
      "2     0.083230  0.169492  0.400000   0.0   0.0\n",
      "3     0.166460  0.288136  0.742857   0.0   0.0\n",
      "4     0.305590  0.118644  0.371429   0.0   0.0\n",
      "...        ...       ...       ...   ...   ...\n",
      "1822  0.139130  0.237288  0.742857   0.0   0.0\n",
      "1823  0.583851  0.067797  0.228571   0.0   0.0\n",
      "1824  0.195031  0.220339  0.942857   0.0   0.0\n",
      "1825  0.055901  0.288136  0.714286   0.0   0.0\n",
      "1826  0.195031  0.305085  0.971429   0.0   0.0\n",
      "\n",
      "[1827 rows x 5 columns] 0       0.0\n",
      "1       0.0\n",
      "2       0.0\n",
      "3       1.0\n",
      "4       1.0\n",
      "       ... \n",
      "1822    1.0\n",
      "1823    1.0\n",
      "1824    0.0\n",
      "1825    0.0\n",
      "1826    0.0\n",
      "Name: PRCP, Length: 1827, dtype: float64\n"
     ]
    }
   ],
   "source": [
    "print(X,y)"
   ]
  },
  {
   "cell_type": "code",
   "execution_count": 52,
   "id": "a07330ae",
   "metadata": {},
   "outputs": [],
   "source": [
    "knn=neighbors.KNeighborsClassifier(n_neighbors=25,weights=\"uniform\")\n",
    "X_train,X_test,y_train,y_test=train_test_split(X,y,test_size=0.2,shuffle=True)"
   ]
  },
  {
   "cell_type": "code",
   "execution_count": 53,
   "id": "59385307",
   "metadata": {},
   "outputs": [
    {
     "name": "stdout",
     "output_type": "stream",
     "text": [
      "predictions: [0. 0. 0. 0. 0. 0. 0. 0. 0. 0. 0. 0. 0. 0. 0. 0. 0. 0. 0. 0. 0. 0. 0. 0.\n",
      " 0. 0. 0. 0. 0. 0. 0. 0. 0. 0. 0. 0. 0. 0. 0. 0. 0. 0. 0. 0. 0. 0. 0. 0.\n",
      " 0. 0. 0. 0. 0. 0. 0. 0. 0. 0. 0. 0. 0. 0. 0. 0. 0. 0. 0. 0. 0. 0. 0. 0.\n",
      " 0. 0. 0. 0. 0. 0. 0. 0. 0. 0. 0. 0. 0. 0. 0. 0. 0. 0. 0. 0. 0. 0. 0. 0.\n",
      " 0. 1. 0. 0. 0. 0. 0. 0. 0. 0. 0. 0. 0. 0. 0. 0. 0. 0. 1. 0. 0. 0. 0. 0.\n",
      " 0. 0. 0. 0. 0. 1. 0. 0. 0. 0. 0. 0. 0. 0. 0. 0. 0. 0. 0. 0. 0. 0. 0. 0.\n",
      " 0. 0. 0. 0. 0. 0. 0. 0. 0. 0. 0. 0. 0. 0. 0. 0. 0. 0. 0. 0. 0. 0. 0. 0.\n",
      " 0. 0. 0. 0. 0. 0. 0. 0. 0. 0. 0. 0. 0. 0. 0. 0. 0. 0. 0. 0. 0. 0. 0. 0.\n",
      " 0. 0. 0. 0. 0. 0. 0. 0. 0. 0. 0. 0. 0. 0. 0. 0. 0. 0. 0. 0. 0. 0. 0. 0.\n",
      " 0. 0. 0. 0. 0. 0. 0. 0. 0. 1. 0. 0. 0. 0. 0. 0. 0. 0. 0. 0. 0. 0. 0. 0.\n",
      " 0. 1. 0. 0. 0. 0. 0. 0. 0. 0. 0. 0. 0. 0. 0. 0. 0. 0. 0. 0. 0. 0. 0. 0.\n",
      " 0. 0. 0. 0. 0. 0. 0. 0. 1. 1. 0. 0. 0. 0. 0. 0. 0. 0. 0. 0. 0. 0. 0. 0.\n",
      " 0. 0. 0. 1. 0. 0. 0. 0. 0. 0. 0. 0. 0. 0. 0. 0. 0. 0. 0. 0. 0. 0. 0. 0.\n",
      " 0. 1. 0. 0. 0. 0. 0. 0. 0. 0. 0. 0. 0. 0. 0. 0. 0. 0. 0. 0. 0. 0. 0. 0.\n",
      " 0. 0. 0. 1. 0. 0. 0. 0. 0. 0. 0. 0. 0. 0. 0. 0. 0. 0. 0. 0. 0. 0. 0. 0.\n",
      " 0. 0. 0. 0. 0. 0.]\n",
      "accuracy: 0.9207650273224044\n"
     ]
    }
   ],
   "source": [
    "#train the model \n",
    "knn.fit(X_train,y_train)\n",
    "prediction=knn.predict(X_test)\n",
    "accuracy=metrics.accuracy_score(y_test,prediction)\n",
    "print('predictions:',prediction)\n",
    "print('accuracy:',accuracy)"
   ]
  },
  {
   "cell_type": "code",
   "execution_count": 54,
   "id": "a0fa7f19",
   "metadata": {},
   "outputs": [
    {
     "name": "stdout",
     "output_type": "stream",
     "text": [
      "actual value: 0.0\n",
      "predicated value: 0.0\n"
     ]
    }
   ],
   "source": [
    "a=1328\n",
    "\n",
    "print('actual value:',y[a])\n",
    "print('predicated value:',knn.predict(X)[a])"
   ]
  },
  {
   "cell_type": "code",
   "execution_count": 55,
   "id": "4d91f47b",
   "metadata": {},
   "outputs": [
    {
     "data": {
      "image/png": "[encoded data removed]",
      "text/plain": [
       "<Figure size 432x288 with 1 Axes>"
      ]
     },
     "metadata": {
      "needs_background": "light"
     },
     "output_type": "display_data"
    }
   ],
   "source": [
    "plt.scatter(X['TMAX'],y)\n",
    "plt.show()"
   ]
  },
  {
   "cell_type": "code",
   "execution_count": 56,
   "id": "90c5410c",
   "metadata": {},
   "outputs": [
    {
     "data": {
      "image/png": "[encoded data removed]",
      "text/plain": [
       "<Figure size 432x288 with 1 Axes>"
      ]
     },
     "metadata": {
      "needs_background": "light"
     },
     "output_type": "display_data"
    }
   ],
   "source": [
    "%matplotlib inline\n",
    "fpr, tpr, thresholds = roc_curve(y_test, model.predict_proba(X_test)[:,1],drop_intermediate=False)\n",
    "plt.xlim([0.0, 1.0])\n",
    "plt.ylim([0.0, 1.0])\n",
    "plt.title('ROC curve')\n",
    "plt.xlabel('False Positive Rate ')\n",
    "plt.ylabel('True Positive Rate ')\n",
    "plt.plot(fpr, tpr,color='red',lw=7)\n",
    "plt.show()"
   ]
  },
  {
   "cell_type": "code",
   "execution_count": 57,
   "id": "b66df02b",
   "metadata": {},
   "outputs": [
    {
     "data": {
      "text/plain": [
       "0.8994448994448994"
      ]
     },
     "execution_count": 57,
     "metadata": {},
     "output_type": "execute_result"
    }
   ],
   "source": [
    "roc_auc_score(y_test, model.predict_proba(X_test)[:,1])"
   ]
  }
 ],
 "metadata": {
  "kernelspec": {
   "display_name": "Python 3 (ipykernel)",
   "language": "python",
   "name": "python3"
  },
  "language_info": {
   "codemirror_mode": {
    "name": "ipython",
    "version": 3
   },
   "file_extension": ".py",
   "mimetype": "text/x-python",
   "name": "python",
   "nbconvert_exporter": "python",
   "pygments_lexer": "ipython3",
   "version": "3.9.12"
  }
 },
 "nbformat": 4,
 "nbformat_minor": 5
}
